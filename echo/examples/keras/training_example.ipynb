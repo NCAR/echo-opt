{
 "cells": [
  {
   "cell_type": "code",
   "execution_count": 1,
   "metadata": {},
   "outputs": [],
   "source": [
    "import numpy as np\n",
    "import tensorflow as tf\n",
    "from tensorflow.keras import layers\n",
    "\n",
    "from tensorflow.python.keras.callbacks import (\n",
    "    ReduceLROnPlateau,\n",
    "    EarlyStopping\n",
    ")\n",
    "import yaml\n",
    "import random\n",
    "import os"
   ]
  },
  {
   "cell_type": "code",
   "execution_count": 2,
   "metadata": {},
   "outputs": [],
   "source": [
    "def seed_everything(seed=1234):\n",
    "    \"\"\"Set seeds for reproducibility\"\"\"\n",
    "    random.seed(seed)\n",
    "    os.environ['PYTHONHASHSEED'] = str(seed)\n",
    "    np.random.seed(seed)\n",
    "    tf.random.set_seed(seed)\n",
    "    tf.keras.utils.set_random_seed(seed)\n",
    "    tf.config.experimental.enable_op_determinism()"
   ]
  },
  {
   "cell_type": "code",
   "execution_count": 3,
   "metadata": {},
   "outputs": [],
   "source": [
    "conf_fn = \"model_config.yml\""
   ]
  },
  {
   "cell_type": "code",
   "execution_count": 4,
   "metadata": {},
   "outputs": [],
   "source": [
    "with open(conf_fn) as cf:\n",
    "    conf = yaml.load(cf, Loader=yaml.FullLoader)"
   ]
  },
  {
   "cell_type": "code",
   "execution_count": 5,
   "metadata": {},
   "outputs": [],
   "source": [
    "filter1 = conf[\"filter1\"]\n",
    "filter2 = conf[\"filter2\"]\n",
    "learning_rate = conf[\"learning_rate\"]\n",
    "batch_size = conf[\"batch_size\"]\n",
    "dropout = conf[\"dropout\"]\n",
    "epochs = conf[\"epochs\"]\n",
    "seed = conf[\"seed\"]"
   ]
  },
  {
   "cell_type": "code",
   "execution_count": 6,
   "metadata": {},
   "outputs": [],
   "source": [
    "seed_everything(seed)"
   ]
  },
  {
   "cell_type": "code",
   "execution_count": 7,
   "metadata": {},
   "outputs": [
    {
     "name": "stdout",
     "output_type": "stream",
     "text": [
      "x_train shape: (50000, 32, 32, 3, 1)\n",
      "50000 train samples\n",
      "10000 test samples\n"
     ]
    }
   ],
   "source": [
    "num_classes = 10\n",
    "input_shape = (32, 32, 3)\n",
    "\n",
    "# Load the data and split it between train and test sets\n",
    "(x_train, y_train), (x_test, y_test) = tf.keras.datasets.cifar10.load_data()#tf.keras.datasets.mnist.load_data()\n",
    "\n",
    "# Scale images to the [0, 1] range\n",
    "x_train = x_train.astype(\"float32\") / 255\n",
    "x_test = x_test.astype(\"float32\") / 255\n",
    "\n",
    "# Make sure images have shape (28, 28, 1)\n",
    "x_train = np.expand_dims(x_train, -1)\n",
    "x_test = np.expand_dims(x_test, -1)\n",
    "print(\"x_train shape:\", x_train.shape)\n",
    "print(x_train.shape[0], \"train samples\")\n",
    "print(x_test.shape[0], \"test samples\")\n",
    "\n",
    "\n",
    "# convert class vectors to binary class matrices\n",
    "y_train = tf.keras.utils.to_categorical(y_train, num_classes)\n",
    "y_test = tf.keras.utils.to_categorical(y_test, num_classes)"
   ]
  },
  {
   "cell_type": "code",
   "execution_count": 8,
   "metadata": {},
   "outputs": [
    {
     "name": "stdout",
     "output_type": "stream",
     "text": [
      "Model: \"sequential\"\n",
      "_________________________________________________________________\n",
      " Layer (type)                Output Shape              Param #   \n",
      "=================================================================\n",
      " conv2d (Conv2D)             (None, 30, 30, 32)        896       \n",
      "                                                                 \n",
      " max_pooling2d (MaxPooling2D  (None, 15, 15, 32)       0         \n",
      " )                                                               \n",
      "                                                                 \n",
      " conv2d_1 (Conv2D)           (None, 13, 13, 64)        18496     \n",
      "                                                                 \n",
      " max_pooling2d_1 (MaxPooling  (None, 6, 6, 64)         0         \n",
      " 2D)                                                             \n",
      "                                                                 \n",
      " flatten (Flatten)           (None, 2304)              0         \n",
      "                                                                 \n",
      " dropout (Dropout)           (None, 2304)              0         \n",
      "                                                                 \n",
      " dense (Dense)               (None, 10)                23050     \n",
      "                                                                 \n",
      "=================================================================\n",
      "Total params: 42,442\n",
      "Trainable params: 42,442\n",
      "Non-trainable params: 0\n",
      "_________________________________________________________________\n"
     ]
    }
   ],
   "source": [
    "model = tf.keras.Sequential(\n",
    "    [\n",
    "        tf.keras.Input(shape=input_shape),\n",
    "        layers.Conv2D(filter1, kernel_size=(3, 3), activation=\"relu\"),\n",
    "        layers.MaxPooling2D(pool_size=(2, 2)),\n",
    "        layers.Conv2D(filter2, kernel_size=(3, 3), activation=\"relu\"),\n",
    "        layers.MaxPooling2D(pool_size=(2, 2)),\n",
    "        layers.Flatten(),\n",
    "        layers.Dropout(dropout),\n",
    "        layers.Dense(num_classes, activation=\"softmax\"),\n",
    "    ]\n",
    ")\n",
    "\n",
    "model.summary()"
   ]
  },
  {
   "cell_type": "code",
   "execution_count": 9,
   "metadata": {},
   "outputs": [],
   "source": [
    "callbacks = [\n",
    "    EarlyStopping(**conf[\"callbacks\"][\"EarlyStopping\"]),\n",
    "    ReduceLROnPlateau(**conf[\"callbacks\"][\"ReduceLROnPlateau\"])\n",
    "]"
   ]
  },
  {
   "cell_type": "code",
   "execution_count": 10,
   "metadata": {},
   "outputs": [
    {
     "name": "stdout",
     "output_type": "stream",
     "text": [
      "Epoch 1/200\n",
      "1250/1250 [==============================] - 6s 3ms/step - loss: 1.5265 - accuracy: 0.4545 - val_loss: 1.3501 - val_accuracy: 0.5246 - lr: 0.0010\n",
      "Epoch 2/200\n",
      "1250/1250 [==============================] - 3s 2ms/step - loss: 1.2092 - accuracy: 0.5759 - val_loss: 1.1187 - val_accuracy: 0.6128 - lr: 0.0010\n",
      "Epoch 3/200\n",
      "1250/1250 [==============================] - 3s 2ms/step - loss: 1.0878 - accuracy: 0.6227 - val_loss: 1.0595 - val_accuracy: 0.6344 - lr: 0.0010\n",
      "Epoch 4/200\n",
      "1250/1250 [==============================] - 3s 2ms/step - loss: 1.0184 - accuracy: 0.6479 - val_loss: 1.0125 - val_accuracy: 0.6485 - lr: 0.0010\n",
      "Epoch 5/200\n",
      "1250/1250 [==============================] - 3s 2ms/step - loss: 0.9650 - accuracy: 0.6662 - val_loss: 0.9615 - val_accuracy: 0.6696 - lr: 0.0010\n",
      "Epoch 6/200\n",
      "1250/1250 [==============================] - 3s 2ms/step - loss: 0.9247 - accuracy: 0.6807 - val_loss: 0.9679 - val_accuracy: 0.6669 - lr: 0.0010\n",
      "Epoch 7/200\n",
      "1250/1250 [==============================] - 3s 2ms/step - loss: 0.8876 - accuracy: 0.6931 - val_loss: 0.9182 - val_accuracy: 0.6809 - lr: 0.0010\n",
      "Epoch 8/200\n",
      "1250/1250 [==============================] - 3s 2ms/step - loss: 0.8561 - accuracy: 0.7063 - val_loss: 0.9203 - val_accuracy: 0.6827 - lr: 0.0010\n",
      "Epoch 9/200\n",
      "1250/1250 [==============================] - 3s 2ms/step - loss: 0.8368 - accuracy: 0.7085 - val_loss: 0.9040 - val_accuracy: 0.6898 - lr: 0.0010\n",
      "Epoch 10/200\n",
      "1250/1250 [==============================] - 3s 2ms/step - loss: 0.8080 - accuracy: 0.7195 - val_loss: 0.9109 - val_accuracy: 0.6890 - lr: 0.0010\n",
      "Epoch 11/200\n",
      "1250/1250 [==============================] - 3s 2ms/step - loss: 0.7856 - accuracy: 0.7298 - val_loss: 0.8963 - val_accuracy: 0.6980 - lr: 0.0010\n",
      "Epoch 12/200\n",
      "1250/1250 [==============================] - 3s 2ms/step - loss: 0.7722 - accuracy: 0.7319 - val_loss: 0.8894 - val_accuracy: 0.6962 - lr: 0.0010\n",
      "Epoch 13/200\n",
      "1250/1250 [==============================] - 3s 2ms/step - loss: 0.7526 - accuracy: 0.7400 - val_loss: 0.8817 - val_accuracy: 0.6966 - lr: 0.0010\n",
      "Epoch 14/200\n",
      "1250/1250 [==============================] - 3s 2ms/step - loss: 0.7355 - accuracy: 0.7445 - val_loss: 0.8801 - val_accuracy: 0.6980 - lr: 0.0010\n",
      "Epoch 15/200\n",
      "1250/1250 [==============================] - 3s 2ms/step - loss: 0.6500 - accuracy: 0.7777 - val_loss: 0.8390 - val_accuracy: 0.7165 - lr: 2.0000e-04\n",
      "Epoch 16/200\n",
      "1250/1250 [==============================] - 3s 2ms/step - loss: 0.6398 - accuracy: 0.7788 - val_loss: 0.8363 - val_accuracy: 0.7181 - lr: 2.0000e-04\n",
      "Epoch 17/200\n",
      "1250/1250 [==============================] - 3s 2ms/step - loss: 0.6353 - accuracy: 0.7807 - val_loss: 0.8371 - val_accuracy: 0.7175 - lr: 2.0000e-04\n",
      "Epoch 18/200\n",
      "1250/1250 [==============================] - 3s 2ms/step - loss: 0.6310 - accuracy: 0.7820 - val_loss: 0.8362 - val_accuracy: 0.7199 - lr: 2.0000e-04\n",
      "Epoch 19/200\n",
      "1250/1250 [==============================] - 3s 2ms/step - loss: 0.6239 - accuracy: 0.7839 - val_loss: 0.8303 - val_accuracy: 0.7208 - lr: 2.0000e-04\n",
      "Epoch 20/200\n",
      "1250/1250 [==============================] - 3s 2ms/step - loss: 0.6207 - accuracy: 0.7872 - val_loss: 0.8288 - val_accuracy: 0.7223 - lr: 2.0000e-04\n",
      "Epoch 21/200\n",
      "1250/1250 [==============================] - 3s 2ms/step - loss: 0.6162 - accuracy: 0.7864 - val_loss: 0.8322 - val_accuracy: 0.7202 - lr: 2.0000e-04\n",
      "Epoch 22/200\n",
      "1250/1250 [==============================] - 3s 2ms/step - loss: 0.6099 - accuracy: 0.7901 - val_loss: 0.8407 - val_accuracy: 0.7175 - lr: 2.0000e-04\n",
      "Epoch 23/200\n",
      "1250/1250 [==============================] - 3s 2ms/step - loss: 0.6087 - accuracy: 0.7909 - val_loss: 0.8317 - val_accuracy: 0.7186 - lr: 2.0000e-04\n",
      "Epoch 24/200\n",
      "1250/1250 [==============================] - 3s 2ms/step - loss: 0.5925 - accuracy: 0.7947 - val_loss: 0.8197 - val_accuracy: 0.7242 - lr: 4.0000e-05\n",
      "Epoch 25/200\n",
      "1250/1250 [==============================] - 3s 2ms/step - loss: 0.5885 - accuracy: 0.7958 - val_loss: 0.8187 - val_accuracy: 0.7273 - lr: 4.0000e-05\n",
      "Epoch 26/200\n",
      "1250/1250 [==============================] - 3s 2ms/step - loss: 0.5855 - accuracy: 0.7974 - val_loss: 0.8194 - val_accuracy: 0.7253 - lr: 4.0000e-05\n",
      "Epoch 27/200\n",
      "1250/1250 [==============================] - 3s 2ms/step - loss: 0.5861 - accuracy: 0.7967 - val_loss: 0.8198 - val_accuracy: 0.7254 - lr: 4.0000e-05\n",
      "Epoch 28/200\n",
      "1250/1250 [==============================] - 3s 2ms/step - loss: 0.5814 - accuracy: 0.7998 - val_loss: 0.8190 - val_accuracy: 0.7272 - lr: 4.0000e-05\n",
      "Epoch 29/200\n",
      "1250/1250 [==============================] - 3s 2ms/step - loss: 0.5786 - accuracy: 0.8010 - val_loss: 0.8171 - val_accuracy: 0.7279 - lr: 8.0000e-06\n",
      "Epoch 30/200\n",
      "1250/1250 [==============================] - 3s 2ms/step - loss: 0.5793 - accuracy: 0.8007 - val_loss: 0.8175 - val_accuracy: 0.7282 - lr: 8.0000e-06\n",
      "Epoch 31/200\n",
      "1250/1250 [==============================] - 3s 2ms/step - loss: 0.5787 - accuracy: 0.7978 - val_loss: 0.8173 - val_accuracy: 0.7271 - lr: 8.0000e-06\n",
      "Epoch 32/200\n",
      "1250/1250 [==============================] - 3s 2ms/step - loss: 0.5760 - accuracy: 0.8024 - val_loss: 0.8167 - val_accuracy: 0.7272 - lr: 8.0000e-06\n",
      "Epoch 33/200\n",
      "1250/1250 [==============================] - 3s 2ms/step - loss: 0.5823 - accuracy: 0.7990 - val_loss: 0.8168 - val_accuracy: 0.7291 - lr: 8.0000e-06\n",
      "Epoch 34/200\n",
      "1250/1250 [==============================] - 3s 2ms/step - loss: 0.5771 - accuracy: 0.8011 - val_loss: 0.8177 - val_accuracy: 0.7269 - lr: 8.0000e-06\n",
      "Epoch 35/200\n",
      "1250/1250 [==============================] - 3s 2ms/step - loss: 0.5761 - accuracy: 0.8015 - val_loss: 0.8171 - val_accuracy: 0.7275 - lr: 8.0000e-06\n",
      "Epoch 36/200\n",
      "1250/1250 [==============================] - 3s 2ms/step - loss: 0.5810 - accuracy: 0.8005 - val_loss: 0.8167 - val_accuracy: 0.7275 - lr: 8.0000e-06\n",
      "Epoch 37/200\n",
      "1250/1250 [==============================] - 3s 2ms/step - loss: 0.5785 - accuracy: 0.8010 - val_loss: 0.8165 - val_accuracy: 0.7282 - lr: 1.6000e-06\n",
      "Epoch 38/200\n",
      "1250/1250 [==============================] - 3s 2ms/step - loss: 0.5762 - accuracy: 0.8033 - val_loss: 0.8165 - val_accuracy: 0.7280 - lr: 1.6000e-06\n",
      "Epoch 39/200\n",
      "1250/1250 [==============================] - 3s 2ms/step - loss: 0.5777 - accuracy: 0.8005 - val_loss: 0.8165 - val_accuracy: 0.7278 - lr: 1.6000e-06\n",
      "Epoch 40/200\n",
      "1250/1250 [==============================] - 3s 2ms/step - loss: 0.5784 - accuracy: 0.7993 - val_loss: 0.8165 - val_accuracy: 0.7278 - lr: 3.2000e-07\n",
      "Epoch 41/200\n",
      "1250/1250 [==============================] - 3s 2ms/step - loss: 0.5746 - accuracy: 0.8003 - val_loss: 0.8166 - val_accuracy: 0.7279 - lr: 3.2000e-07\n",
      "Epoch 42/200\n",
      "1250/1250 [==============================] - 3s 2ms/step - loss: 0.5767 - accuracy: 0.8015 - val_loss: 0.8166 - val_accuracy: 0.7278 - lr: 3.2000e-07\n",
      "Epoch 43/200\n",
      "1250/1250 [==============================] - 3s 2ms/step - loss: 0.5723 - accuracy: 0.8033 - val_loss: 0.8166 - val_accuracy: 0.7278 - lr: 6.4000e-08\n"
     ]
    }
   ],
   "source": [
    "model.compile(loss=\"categorical_crossentropy\", optimizer=\"adam\", metrics=[\"accuracy\"])\n",
    "\n",
    "history = model.fit(x_train, y_train, \n",
    "                    batch_size=batch_size, \n",
    "                    epochs=epochs, \n",
    "                    callbacks=callbacks,\n",
    "                    validation_split=0.2)"
   ]
  },
  {
   "cell_type": "code",
   "execution_count": null,
   "metadata": {},
   "outputs": [],
   "source": []
  }
 ],
 "metadata": {
  "kernelspec": {
   "display_name": "py37",
   "language": "python",
   "name": "py37"
  },
  "language_info": {
   "codemirror_mode": {
    "name": "ipython",
    "version": 3
   },
   "file_extension": ".py",
   "mimetype": "text/x-python",
   "name": "python",
   "nbconvert_exporter": "python",
   "pygments_lexer": "ipython3",
   "version": "3.7.5"
  }
 },
 "nbformat": 4,
 "nbformat_minor": 4
}
